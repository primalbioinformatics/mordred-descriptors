{
 "cells": [
  {
   "cell_type": "markdown",
   "id": "b291bd9e",
   "metadata": {},
   "source": [
    "# Molecular Descriptors with Mordred\n",
    "\n",
    "This notebook computes **molecular descriptors** using Mordred and RDKit.\n"
   ]
  },
  {
   "cell_type": "code",
   "execution_count": null,
   "id": "ee0b08dd",
   "metadata": {},
   "outputs": [],
   "source": [
    "!pip install mordred rdkit-pypi"
   ]
  },
  {
   "cell_type": "code",
   "execution_count": null,
   "id": "a03cd87f",
   "metadata": {},
   "outputs": [],
   "source": [
    "from rdkit import Chem\n",
    "from mordred import Calculator, descriptors\n",
    "import pandas as pd\n",
    "from google.colab import files"
   ]
  },
  {
   "cell_type": "code",
   "execution_count": null,
   "id": "b46e83a7",
   "metadata": {},
   "outputs": [],
   "source": [
    "def load_smiles_file(filepath, smiles_col='SMILES'):\n",
    "    df = pd.read_csv(filepath)\n",
    "    if smiles_col not in df.columns:\n",
    "        raise ValueError(f\"Column '{smiles_col}' not found in file.\")\n",
    "    mols, valid_idx = [], []\n",
    "    for i, s in enumerate(df[smiles_col]):\n",
    "        m = Chem.MolFromSmiles(s)\n",
    "        if m is None:\n",
    "            print(f\"Warning: invalid SMILES at row {i}: {s}\")\n",
    "        else:\n",
    "            mols.append(m)\n",
    "            valid_idx.append(i)\n",
    "    return df, mols, valid_idx\n",
    "\n",
    "def compute_descriptors(mols, ignore_3D=True):\n",
    "    calc = Calculator(descriptors, ignore_3D=ignore_3D)\n",
    "    return calc.map(mols)\n"
   ]
  },
  {
   "cell_type": "code",
   "execution_count": null,
   "id": "52d2a64a",
   "metadata": {},
   "outputs": [],
   "source": [
    "print('Upload a CSV file with a column named SMILES.')\n",
    "uploaded = files.upload()\n",
    "fname = list(uploaded.keys())[0]\n",
    "print(f'Loaded file: {fname}')\n",
    "df_input, mols, valid_idx = load_smiles_file(fname)\n",
    "if not mols:\n",
    "    raise RuntimeError('No valid molecules loaded — check your SMILES column.')\n",
    "print('Computing descriptors...')\n",
    "df_desc = pd.DataFrame(compute_descriptors(mols, ignore_3D=True))\n",
    "df_valid = df_input.iloc[valid_idx].reset_index(drop=True)\n",
    "df_out = pd.concat([df_valid, df_desc.reset_index(drop=True)], axis=1)\n",
    "out_name = 'molecular_descriptors_output.csv'\n",
    "df_out.to_csv(out_name, index=False)\n",
    "print(f'Saved descriptors to {out_name}')\n",
    "files.download(out_name)\n"
   ]
  }
 ],
 "metadata": {},
 "nbformat": 4,
 "nbformat_minor": 5
}
